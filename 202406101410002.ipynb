{
  "cells": [
    {
      "cell_type": "markdown",
      "metadata": {
        "id": "view-in-github",
        "colab_type": "text"
      },
      "source": [
        "<a href=\"https://colab.research.google.com/github/Harshil-24/Harshil-24/blob/main/202406101410002.ipynb\" target=\"_parent\"><img src=\"https://colab.research.google.com/assets/colab-badge.svg\" alt=\"Open In Colab\"/></a>"
      ]
    },
    {
      "cell_type": "markdown",
      "id": "39a05aaa",
      "metadata": {
        "id": "39a05aaa"
      },
      "source": [
        "\n",
        "# 202406101410002.ipynb\n",
        "\n",
        "**Course:** Mastering Numerical Python with NumPy (IT4047)  \n",
        "**ER.No:** 202406101410002"
      ]
    },
    {
      "cell_type": "markdown",
      "id": "960f22d5",
      "metadata": {
        "id": "960f22d5"
      },
      "source": [
        "## Import Libraries"
      ]
    },
    {
      "cell_type": "code",
      "execution_count": 2,
      "id": "27ec6eac",
      "metadata": {
        "colab": {
          "base_uri": "https://localhost:8080/",
          "height": 0
        },
        "id": "27ec6eac",
        "outputId": "03da47ce-73fb-46f9-fc66-125de0e59755"
      },
      "outputs": [
        {
          "output_type": "stream",
          "name": "stdout",
          "text": [
            "NumPy version: 2.0.2\n"
          ]
        }
      ],
      "source": [
        "import numpy as np\n",
        "np.random.seed(0)\n",
        "print(\"NumPy version:\", np.__version__)"
      ]
    },
    {
      "cell_type": "markdown",
      "id": "6dd0dc9c",
      "metadata": {
        "id": "6dd0dc9c"
      },
      "source": [
        "## Section 1: Array Creation & Inspection"
      ]
    },
    {
      "cell_type": "markdown",
      "id": "b08f8829",
      "metadata": {
        "id": "b08f8829"
      },
      "source": [
        "### np.array()\n",
        "Create arrays from Python lists."
      ]
    },
    {
      "cell_type": "code",
      "execution_count": 3,
      "id": "db9fe8cc",
      "metadata": {
        "colab": {
          "base_uri": "https://localhost:8080/",
          "height": 0
        },
        "id": "db9fe8cc",
        "outputId": "b3e70e65-8bdb-402b-8cf6-64e14e1607cc"
      },
      "outputs": [
        {
          "output_type": "stream",
          "name": "stdout",
          "text": [
            "[[1 2 3]\n",
            " [4 5 6]]\n"
          ]
        }
      ],
      "source": [
        "arr = np.array([[1,2,3],[4,5,6]])\n",
        "print(arr)"
      ]
    },
    {
      "cell_type": "markdown",
      "id": "74835f61",
      "metadata": {
        "id": "74835f61"
      },
      "source": [
        "### np.arange()\n",
        "Generate evenly spaced values."
      ]
    },
    {
      "cell_type": "code",
      "execution_count": 4,
      "id": "645ab4e0",
      "metadata": {
        "colab": {
          "base_uri": "https://localhost:8080/",
          "height": 0
        },
        "id": "645ab4e0",
        "outputId": "ca78a611-d39c-4aaf-aea9-9584e0de5487"
      },
      "outputs": [
        {
          "output_type": "stream",
          "name": "stdout",
          "text": [
            "[0 2 4 6 8]\n"
          ]
        }
      ],
      "source": [
        "arr = np.arange(0,10,2)\n",
        "print(arr)"
      ]
    },
    {
      "cell_type": "markdown",
      "id": "55d8ada5",
      "metadata": {
        "id": "55d8ada5"
      },
      "source": [
        "### np.linspace()\n",
        "Generate linearly spaced values between two numbers."
      ]
    },
    {
      "cell_type": "code",
      "execution_count": 5,
      "id": "88296d9d",
      "metadata": {
        "colab": {
          "base_uri": "https://localhost:8080/",
          "height": 0
        },
        "id": "88296d9d",
        "outputId": "8efbf283-0728-4187-ccd2-3f8408adb294"
      },
      "outputs": [
        {
          "output_type": "stream",
          "name": "stdout",
          "text": [
            "[0.   0.25 0.5  0.75 1.  ]\n"
          ]
        }
      ],
      "source": [
        "arr = np.linspace(0,1,5)\n",
        "print(arr)"
      ]
    },
    {
      "cell_type": "markdown",
      "id": "0d2fc2ec",
      "metadata": {
        "id": "0d2fc2ec"
      },
      "source": [
        "### np.zeros()\n",
        "Create array of zeros."
      ]
    },
    {
      "cell_type": "code",
      "execution_count": 6,
      "id": "1627c3b9",
      "metadata": {
        "colab": {
          "base_uri": "https://localhost:8080/",
          "height": 0
        },
        "id": "1627c3b9",
        "outputId": "95d07684-1c5e-4d13-aa0b-6129e065df26"
      },
      "outputs": [
        {
          "output_type": "stream",
          "name": "stdout",
          "text": [
            "[[0. 0. 0.]\n",
            " [0. 0. 0.]]\n"
          ]
        }
      ],
      "source": [
        "arr = np.zeros((2,3))\n",
        "print(arr)"
      ]
    },
    {
      "cell_type": "markdown",
      "id": "939737fd",
      "metadata": {
        "id": "939737fd"
      },
      "source": [
        "### np.ones()\n",
        "Create array of ones."
      ]
    },
    {
      "cell_type": "code",
      "execution_count": 7,
      "id": "f42d6034",
      "metadata": {
        "colab": {
          "base_uri": "https://localhost:8080/",
          "height": 0
        },
        "id": "f42d6034",
        "outputId": "fd46ea35-aa20-4516-a6a2-17d3c36bb87b"
      },
      "outputs": [
        {
          "output_type": "stream",
          "name": "stdout",
          "text": [
            "[[1. 1. 1.]\n",
            " [1. 1. 1.]]\n"
          ]
        }
      ],
      "source": [
        "arr = np.ones((2,3))\n",
        "print(arr)"
      ]
    },
    {
      "cell_type": "markdown",
      "id": "994e3283",
      "metadata": {
        "id": "994e3283"
      },
      "source": [
        "### np.eye()\n",
        "Create an identity matrix."
      ]
    },
    {
      "cell_type": "code",
      "execution_count": 8,
      "id": "7c5929e9",
      "metadata": {
        "colab": {
          "base_uri": "https://localhost:8080/",
          "height": 0
        },
        "id": "7c5929e9",
        "outputId": "868e33d2-96ff-4de5-aac9-aa94cadbb5bb"
      },
      "outputs": [
        {
          "output_type": "stream",
          "name": "stdout",
          "text": [
            "[[1. 0. 0.]\n",
            " [0. 1. 0.]\n",
            " [0. 0. 1.]]\n"
          ]
        }
      ],
      "source": [
        "arr = np.eye(3)\n",
        "print(arr)"
      ]
    },
    {
      "cell_type": "markdown",
      "id": "61206900",
      "metadata": {
        "id": "61206900"
      },
      "source": [
        "### np.random.rand()\n",
        "Generate uniform random numbers."
      ]
    },
    {
      "cell_type": "code",
      "execution_count": 9,
      "id": "d89a650c",
      "metadata": {
        "colab": {
          "base_uri": "https://localhost:8080/",
          "height": 0
        },
        "id": "d89a650c",
        "outputId": "c50241be-83b0-46db-c39f-a531364ad3ab"
      },
      "outputs": [
        {
          "output_type": "stream",
          "name": "stdout",
          "text": [
            "[[0.5488135  0.71518937 0.60276338]\n",
            " [0.54488318 0.4236548  0.64589411]]\n"
          ]
        }
      ],
      "source": [
        "arr = np.random.rand(2,3)\n",
        "print(arr)"
      ]
    },
    {
      "cell_type": "markdown",
      "id": "deef529e",
      "metadata": {
        "id": "deef529e"
      },
      "source": [
        "### np.random.randn()\n",
        "Generate standard normal random numbers."
      ]
    },
    {
      "cell_type": "code",
      "execution_count": 10,
      "id": "72039240",
      "metadata": {
        "colab": {
          "base_uri": "https://localhost:8080/",
          "height": 0
        },
        "id": "72039240",
        "outputId": "f8132d29-b153-4950-cc80-367ac9eb68e0"
      },
      "outputs": [
        {
          "output_type": "stream",
          "name": "stdout",
          "text": [
            "[[ 0.95008842 -0.15135721 -0.10321885]\n",
            " [ 0.4105985   0.14404357  1.45427351]]\n"
          ]
        }
      ],
      "source": [
        "arr = np.random.randn(2,3)\n",
        "print(arr)"
      ]
    },
    {
      "cell_type": "markdown",
      "id": "96bb6314",
      "metadata": {
        "id": "96bb6314"
      },
      "source": [
        "### np.shape()\n",
        "Get array shape."
      ]
    },
    {
      "cell_type": "code",
      "execution_count": 11,
      "id": "f07e70bf",
      "metadata": {
        "colab": {
          "base_uri": "https://localhost:8080/",
          "height": 0
        },
        "id": "f07e70bf",
        "outputId": "89b679e5-2800-4711-fe64-95a5cb1b68ad"
      },
      "outputs": [
        {
          "output_type": "stream",
          "name": "stdout",
          "text": [
            "Shape: (3, 4)\n"
          ]
        }
      ],
      "source": [
        "arr = np.arange(12).reshape(3,4)\n",
        "print('Shape:', np.shape(arr))"
      ]
    },
    {
      "cell_type": "markdown",
      "id": "ec4d2d0e",
      "metadata": {
        "id": "ec4d2d0e"
      },
      "source": [
        "### np.ndim()\n",
        "Get array dimensions."
      ]
    },
    {
      "cell_type": "code",
      "execution_count": 12,
      "id": "42a608aa",
      "metadata": {
        "colab": {
          "base_uri": "https://localhost:8080/",
          "height": 0
        },
        "id": "42a608aa",
        "outputId": "11e492b2-45a8-4910-870a-045f96841c47"
      },
      "outputs": [
        {
          "output_type": "stream",
          "name": "stdout",
          "text": [
            "Dimensions: 2\n"
          ]
        }
      ],
      "source": [
        "print('Dimensions:', np.ndim(arr))"
      ]
    },
    {
      "cell_type": "markdown",
      "id": "e2ebd18f",
      "metadata": {
        "id": "e2ebd18f"
      },
      "source": [
        "## Section 2: Array Operations"
      ]
    },
    {
      "cell_type": "markdown",
      "id": "8c648151",
      "metadata": {
        "id": "8c648151"
      },
      "source": [
        "### np.reshape()\n",
        "Reshape an array."
      ]
    },
    {
      "cell_type": "code",
      "execution_count": 13,
      "id": "78fbfe7b",
      "metadata": {
        "colab": {
          "base_uri": "https://localhost:8080/",
          "height": 0
        },
        "id": "78fbfe7b",
        "outputId": "034860ec-fcc2-4d29-ddb3-09bafafd722b"
      },
      "outputs": [
        {
          "output_type": "stream",
          "name": "stdout",
          "text": [
            "[[0 1 2]\n",
            " [3 4 5]]\n"
          ]
        }
      ],
      "source": [
        "a = np.arange(6)\n",
        "print(a.reshape(2,3))"
      ]
    },
    {
      "cell_type": "markdown",
      "id": "f99bf165",
      "metadata": {
        "id": "f99bf165"
      },
      "source": [
        "### np.transpose()\n",
        "Transpose a matrix."
      ]
    },
    {
      "cell_type": "code",
      "execution_count": 14,
      "id": "1e433070",
      "metadata": {
        "colab": {
          "base_uri": "https://localhost:8080/",
          "height": 0
        },
        "id": "1e433070",
        "outputId": "07ee69ff-efc9-4431-d977-4960804a3609"
      },
      "outputs": [
        {
          "output_type": "stream",
          "name": "stdout",
          "text": [
            "[[0 3]\n",
            " [1 4]\n",
            " [2 5]]\n"
          ]
        }
      ],
      "source": [
        "arr = np.arange(6).reshape(2,3)\n",
        "print(arr.T)"
      ]
    },
    {
      "cell_type": "markdown",
      "id": "cd976f02",
      "metadata": {
        "id": "cd976f02"
      },
      "source": [
        "### np.concatenate()\n",
        "Concatenate arrays."
      ]
    },
    {
      "cell_type": "code",
      "execution_count": 15,
      "id": "da1374a7",
      "metadata": {
        "colab": {
          "base_uri": "https://localhost:8080/",
          "height": 0
        },
        "id": "da1374a7",
        "outputId": "e81e3688-284b-494f-a327-98bf614c660a"
      },
      "outputs": [
        {
          "output_type": "stream",
          "name": "stdout",
          "text": [
            "[[ 0  1  2]\n",
            " [ 3  4  5]\n",
            " [ 6  7  8]\n",
            " [ 9 10 11]]\n"
          ]
        }
      ],
      "source": [
        "a = np.arange(6).reshape(2,3)\n",
        "b = np.arange(6,12).reshape(2,3)\n",
        "print(np.concatenate([a,b], axis=0))"
      ]
    },
    {
      "cell_type": "markdown",
      "id": "515fd5b6",
      "metadata": {
        "id": "515fd5b6"
      },
      "source": [
        "### np.split()\n",
        "Split arrays into parts."
      ]
    },
    {
      "cell_type": "code",
      "execution_count": 16,
      "id": "7762988b",
      "metadata": {
        "colab": {
          "base_uri": "https://localhost:8080/",
          "height": 0
        },
        "id": "7762988b",
        "outputId": "ce1b2b1f-825a-49c6-fe74-21cdc04d4b2a"
      },
      "outputs": [
        {
          "output_type": "stream",
          "name": "stdout",
          "text": [
            "[array([[0, 1, 2]]), array([[3, 4, 5]])]\n"
          ]
        }
      ],
      "source": [
        "arr = np.arange(6).reshape(2,3)\n",
        "print(np.split(arr,2))"
      ]
    },
    {
      "cell_type": "markdown",
      "id": "14e215ec",
      "metadata": {
        "id": "14e215ec"
      },
      "source": [
        "### np.vstack()\n",
        "Stack arrays vertically."
      ]
    },
    {
      "cell_type": "code",
      "execution_count": 17,
      "id": "9d17e3fe",
      "metadata": {
        "colab": {
          "base_uri": "https://localhost:8080/",
          "height": 0
        },
        "id": "9d17e3fe",
        "outputId": "10f30200-e670-4963-ee00-d60d8bcc9bea"
      },
      "outputs": [
        {
          "output_type": "stream",
          "name": "stdout",
          "text": [
            "[[ 0  1  2]\n",
            " [ 3  4  5]\n",
            " [ 6  7  8]\n",
            " [ 9 10 11]]\n"
          ]
        }
      ],
      "source": [
        "a = np.arange(6).reshape(2,3)\n",
        "b = np.arange(6,12).reshape(2,3)\n",
        "print(np.vstack([a,b]))"
      ]
    },
    {
      "cell_type": "markdown",
      "id": "a597e2b0",
      "metadata": {
        "id": "a597e2b0"
      },
      "source": [
        "### np.hstack()\n",
        "Stack arrays horizontally."
      ]
    },
    {
      "cell_type": "code",
      "execution_count": 18,
      "id": "7615e2f4",
      "metadata": {
        "colab": {
          "base_uri": "https://localhost:8080/",
          "height": 0
        },
        "id": "7615e2f4",
        "outputId": "a4225114-3f2c-4f5b-ac79-2076e712ebd4"
      },
      "outputs": [
        {
          "output_type": "stream",
          "name": "stdout",
          "text": [
            "[[ 0  1  2  6  7  8]\n",
            " [ 3  4  5  9 10 11]]\n"
          ]
        }
      ],
      "source": [
        "a = np.arange(6).reshape(2,3)\n",
        "b = np.arange(6,12).reshape(2,3)\n",
        "print(np.hstack([a,b]))"
      ]
    },
    {
      "cell_type": "markdown",
      "id": "ac75bf2a",
      "metadata": {
        "id": "ac75bf2a"
      },
      "source": [
        "## Section 3: Math and Statistical Functions"
      ]
    },
    {
      "cell_type": "markdown",
      "id": "7ff270a3",
      "metadata": {
        "id": "7ff270a3"
      },
      "source": [
        "### np.add()\n",
        "Add elements."
      ]
    },
    {
      "cell_type": "code",
      "execution_count": 19,
      "id": "ab770a9e",
      "metadata": {
        "colab": {
          "base_uri": "https://localhost:8080/",
          "height": 0
        },
        "id": "ab770a9e",
        "outputId": "f60ca0d2-dc84-4d4d-b60d-7d3aa262e66f"
      },
      "outputs": [
        {
          "output_type": "stream",
          "name": "stdout",
          "text": [
            "[[18  4 12 18]\n",
            " [10  8  2  8]\n",
            " [12  2  6  8]\n",
            " [18  4  8  8]]\n"
          ]
        }
      ],
      "source": [
        "M = np.random.randint(1,10,(4,4))\n",
        "print(np.add(M,M))"
      ]
    },
    {
      "cell_type": "markdown",
      "id": "d2931e97",
      "metadata": {
        "id": "d2931e97"
      },
      "source": [
        "### np.subtract()\n",
        "Subtract elements."
      ]
    },
    {
      "cell_type": "code",
      "execution_count": 20,
      "id": "365eef4b",
      "metadata": {
        "colab": {
          "base_uri": "https://localhost:8080/",
          "height": 0
        },
        "id": "365eef4b",
        "outputId": "3341cfc6-2466-4c28-8a0c-a8e97065d24d"
      },
      "outputs": [
        {
          "output_type": "stream",
          "name": "stdout",
          "text": [
            "[[8 1 5 8]\n",
            " [4 3 0 3]\n",
            " [5 0 2 3]\n",
            " [8 1 3 3]]\n"
          ]
        }
      ],
      "source": [
        "print(np.subtract(M,1))"
      ]
    },
    {
      "cell_type": "markdown",
      "id": "af7af15d",
      "metadata": {
        "id": "af7af15d"
      },
      "source": [
        "### np.multiply()\n",
        "Multiply elements."
      ]
    },
    {
      "cell_type": "code",
      "execution_count": 21,
      "id": "aa6bdae5",
      "metadata": {
        "colab": {
          "base_uri": "https://localhost:8080/",
          "height": 0
        },
        "id": "aa6bdae5",
        "outputId": "d0989d2d-30be-40af-cf52-61c078f85000"
      },
      "outputs": [
        {
          "output_type": "stream",
          "name": "stdout",
          "text": [
            "[[18  4 12 18]\n",
            " [10  8  2  8]\n",
            " [12  2  6  8]\n",
            " [18  4  8  8]]\n"
          ]
        }
      ],
      "source": [
        "print(np.multiply(M,2))"
      ]
    },
    {
      "cell_type": "markdown",
      "id": "255b40e9",
      "metadata": {
        "id": "255b40e9"
      },
      "source": [
        "### np.divide()\n",
        "Divide elements."
      ]
    },
    {
      "cell_type": "code",
      "execution_count": 22,
      "id": "af2ec496",
      "metadata": {
        "colab": {
          "base_uri": "https://localhost:8080/",
          "height": 0
        },
        "id": "af2ec496",
        "outputId": "45eea7ec-218e-406e-b3c1-bdadadeff682"
      },
      "outputs": [
        {
          "output_type": "stream",
          "name": "stdout",
          "text": [
            "[[4.5 1.  3.  4.5]\n",
            " [2.5 2.  0.5 2. ]\n",
            " [3.  0.5 1.5 2. ]\n",
            " [4.5 1.  2.  2. ]]\n"
          ]
        }
      ],
      "source": [
        "print(np.divide(M,2))"
      ]
    },
    {
      "cell_type": "markdown",
      "id": "aa9b5ede",
      "metadata": {
        "id": "aa9b5ede"
      },
      "source": [
        "### np.dot()\n",
        "Matrix multiplication."
      ]
    },
    {
      "cell_type": "code",
      "execution_count": 23,
      "id": "0bd561a5",
      "metadata": {
        "colab": {
          "base_uri": "https://localhost:8080/",
          "height": 0
        },
        "id": "0bd561a5",
        "outputId": "f0f651c0-0ce4-4b8c-da37-624776667548"
      },
      "outputs": [
        {
          "output_type": "stream",
          "name": "stdout",
          "text": [
            "[[208  50 110 149]\n",
            " [107  35  53  81]\n",
            " [113  27  62  86]\n",
            " [151  38  84 121]]\n"
          ]
        }
      ],
      "source": [
        "print(np.dot(M,M))"
      ]
    },
    {
      "cell_type": "markdown",
      "id": "261ea888",
      "metadata": {
        "id": "261ea888"
      },
      "source": [
        "### np.mean()\n",
        "Mean of array."
      ]
    },
    {
      "cell_type": "code",
      "execution_count": 24,
      "id": "d7756cdb",
      "metadata": {
        "colab": {
          "base_uri": "https://localhost:8080/",
          "height": 0
        },
        "id": "d7756cdb",
        "outputId": "eeeb5105-95de-4f6a-aa14-3aa40f7f4e81"
      },
      "outputs": [
        {
          "output_type": "stream",
          "name": "stdout",
          "text": [
            "Mean: 4.5625\n"
          ]
        }
      ],
      "source": [
        "print('Mean:', np.mean(M))"
      ]
    },
    {
      "cell_type": "markdown",
      "id": "67e1f7f6",
      "metadata": {
        "id": "67e1f7f6"
      },
      "source": [
        "### np.median()\n",
        "Median of array."
      ]
    },
    {
      "cell_type": "code",
      "execution_count": 25,
      "id": "93b17046",
      "metadata": {
        "colab": {
          "base_uri": "https://localhost:8080/",
          "height": 0
        },
        "id": "93b17046",
        "outputId": "ab3bb5d4-afb6-41a9-ceb9-888d3e37b8f8"
      },
      "outputs": [
        {
          "output_type": "stream",
          "name": "stdout",
          "text": [
            "Median: 4.0\n"
          ]
        }
      ],
      "source": [
        "print('Median:', np.median(M))"
      ]
    },
    {
      "cell_type": "markdown",
      "id": "905c94ca",
      "metadata": {
        "id": "905c94ca"
      },
      "source": [
        "### np.std()\n",
        "Standard deviation."
      ]
    },
    {
      "cell_type": "code",
      "execution_count": 26,
      "id": "f7bd29fb",
      "metadata": {
        "colab": {
          "base_uri": "https://localhost:8080/",
          "height": 0
        },
        "id": "f7bd29fb",
        "outputId": "fb7fbae0-4441-46d7-8c8d-b28138924a64"
      },
      "outputs": [
        {
          "output_type": "stream",
          "name": "stdout",
          "text": [
            "Std: 2.5731486062798625\n"
          ]
        }
      ],
      "source": [
        "print('Std:', np.std(M))"
      ]
    },
    {
      "cell_type": "markdown",
      "id": "ae722213",
      "metadata": {
        "id": "ae722213"
      },
      "source": [
        "### np.min()\n",
        "Minimum value."
      ]
    },
    {
      "cell_type": "code",
      "execution_count": 27,
      "id": "3240420f",
      "metadata": {
        "colab": {
          "base_uri": "https://localhost:8080/",
          "height": 0
        },
        "id": "3240420f",
        "outputId": "e51c5b5f-ae19-4ea8-cf0f-8af9593f5971"
      },
      "outputs": [
        {
          "output_type": "stream",
          "name": "stdout",
          "text": [
            "Min: 1\n"
          ]
        }
      ],
      "source": [
        "print('Min:', np.min(M))"
      ]
    },
    {
      "cell_type": "markdown",
      "id": "36ca9047",
      "metadata": {
        "id": "36ca9047"
      },
      "source": [
        "### np.max()\n",
        "Maximum value."
      ]
    },
    {
      "cell_type": "code",
      "execution_count": 28,
      "id": "bf716a05",
      "metadata": {
        "colab": {
          "base_uri": "https://localhost:8080/",
          "height": 0
        },
        "id": "bf716a05",
        "outputId": "d5f430ef-1a9b-4f5e-b77c-f7a72e476e4a"
      },
      "outputs": [
        {
          "output_type": "stream",
          "name": "stdout",
          "text": [
            "Max: 9\n"
          ]
        }
      ],
      "source": [
        "print('Max:', np.max(M))"
      ]
    },
    {
      "cell_type": "markdown",
      "id": "2f759cc0",
      "metadata": {
        "id": "2f759cc0"
      },
      "source": [
        "### np.argmin()\n",
        "Index of min."
      ]
    },
    {
      "cell_type": "code",
      "execution_count": 29,
      "id": "7b82ac57",
      "metadata": {
        "colab": {
          "base_uri": "https://localhost:8080/",
          "height": 0
        },
        "id": "7b82ac57",
        "outputId": "9f9a6d0e-d943-4bec-a30a-785479028b84"
      },
      "outputs": [
        {
          "output_type": "stream",
          "name": "stdout",
          "text": [
            "Argmin: 6\n"
          ]
        }
      ],
      "source": [
        "print('Argmin:', np.argmin(M))"
      ]
    },
    {
      "cell_type": "markdown",
      "id": "4927a3cd",
      "metadata": {
        "id": "4927a3cd"
      },
      "source": [
        "### np.argmax()\n",
        "Index of max."
      ]
    },
    {
      "cell_type": "code",
      "execution_count": 30,
      "id": "f8372963",
      "metadata": {
        "colab": {
          "base_uri": "https://localhost:8080/",
          "height": 0
        },
        "id": "f8372963",
        "outputId": "6ea164f4-3d1d-4eeb-c71a-ed91d8ac915a"
      },
      "outputs": [
        {
          "output_type": "stream",
          "name": "stdout",
          "text": [
            "Argmax: 0\n"
          ]
        }
      ],
      "source": [
        "print('Argmax:', np.argmax(M))"
      ]
    },
    {
      "cell_type": "markdown",
      "id": "2f971ace",
      "metadata": {
        "id": "2f971ace"
      },
      "source": [
        "### np.sum()\n",
        "Sum of all elements."
      ]
    },
    {
      "cell_type": "code",
      "execution_count": 31,
      "id": "b8150d4e",
      "metadata": {
        "colab": {
          "base_uri": "https://localhost:8080/",
          "height": 0
        },
        "id": "b8150d4e",
        "outputId": "4d39e119-31e9-4447-ec6e-1ed080757766"
      },
      "outputs": [
        {
          "output_type": "stream",
          "name": "stdout",
          "text": [
            "Sum: 73\n"
          ]
        }
      ],
      "source": [
        "print('Sum:', np.sum(M))"
      ]
    },
    {
      "cell_type": "markdown",
      "id": "a27da103",
      "metadata": {
        "id": "a27da103"
      },
      "source": [
        "### np.prod()\n",
        "Product of all elements."
      ]
    },
    {
      "cell_type": "code",
      "execution_count": 32,
      "id": "0b844100",
      "metadata": {
        "colab": {
          "base_uri": "https://localhost:8080/",
          "height": 0
        },
        "id": "0b844100",
        "outputId": "ab781ea3-07c6-41bb-d85c-4dc04983f685"
      },
      "outputs": [
        {
          "output_type": "stream",
          "name": "stdout",
          "text": [
            "Product: 1612431360\n"
          ]
        }
      ],
      "source": [
        "print('Product:', np.prod(M))"
      ]
    },
    {
      "cell_type": "markdown",
      "id": "54079026",
      "metadata": {
        "id": "54079026"
      },
      "source": [
        "## Section 4: Conditional & Logical Operations"
      ]
    },
    {
      "cell_type": "markdown",
      "id": "cf268637",
      "metadata": {
        "id": "cf268637"
      },
      "source": [
        "### np.where()\n",
        "Find indices where condition is True."
      ]
    },
    {
      "cell_type": "code",
      "execution_count": 33,
      "id": "356aeaa2",
      "metadata": {
        "colab": {
          "base_uri": "https://localhost:8080/",
          "height": 0
        },
        "id": "356aeaa2",
        "outputId": "f3314bee-d05b-4ffd-f50f-be979f1f22ca"
      },
      "outputs": [
        {
          "output_type": "stream",
          "name": "stdout",
          "text": [
            "(array([0, 2, 4, 5]),)\n"
          ]
        }
      ],
      "source": [
        "arr = np.array([5,2,9,2,7,5,3])\n",
        "print(np.where(arr>4))"
      ]
    },
    {
      "cell_type": "markdown",
      "id": "e622593e",
      "metadata": {
        "id": "e622593e"
      },
      "source": [
        "### np.unique()\n",
        "Get unique elements."
      ]
    },
    {
      "cell_type": "code",
      "execution_count": 34,
      "id": "2ab02e2c",
      "metadata": {
        "colab": {
          "base_uri": "https://localhost:8080/",
          "height": 0
        },
        "id": "2ab02e2c",
        "outputId": "5d880ddf-1956-466d-99df-a0ba6acf6229"
      },
      "outputs": [
        {
          "output_type": "stream",
          "name": "stdout",
          "text": [
            "[2 3 5 7 9]\n"
          ]
        }
      ],
      "source": [
        "print(np.unique(arr))"
      ]
    },
    {
      "cell_type": "markdown",
      "id": "51915757",
      "metadata": {
        "id": "51915757"
      },
      "source": [
        "### np.sort()\n",
        "Sort array."
      ]
    },
    {
      "cell_type": "code",
      "execution_count": 35,
      "id": "ea18ef0b",
      "metadata": {
        "colab": {
          "base_uri": "https://localhost:8080/",
          "height": 0
        },
        "id": "ea18ef0b",
        "outputId": "b2001188-5eaa-4432-ce8f-9acd18dd002d"
      },
      "outputs": [
        {
          "output_type": "stream",
          "name": "stdout",
          "text": [
            "[2 2 3 5 5 7 9]\n"
          ]
        }
      ],
      "source": [
        "print(np.sort(arr))"
      ]
    },
    {
      "cell_type": "markdown",
      "id": "e4d11b02",
      "metadata": {
        "id": "e4d11b02"
      },
      "source": [
        "### np.argsort()\n",
        "Return sorted indices."
      ]
    },
    {
      "cell_type": "code",
      "execution_count": 36,
      "id": "e662ea47",
      "metadata": {
        "colab": {
          "base_uri": "https://localhost:8080/",
          "height": 0
        },
        "id": "e662ea47",
        "outputId": "2fcadff9-af12-4f6e-bde4-26acd2266f87"
      },
      "outputs": [
        {
          "output_type": "stream",
          "name": "stdout",
          "text": [
            "[1 3 6 0 5 4 2]\n"
          ]
        }
      ],
      "source": [
        "print(np.argsort(arr))"
      ]
    },
    {
      "cell_type": "markdown",
      "id": "82fc975f",
      "metadata": {
        "id": "82fc975f"
      },
      "source": [
        "### np.all()\n",
        "Check if all elements satisfy condition."
      ]
    },
    {
      "cell_type": "code",
      "execution_count": 37,
      "id": "57f9f909",
      "metadata": {
        "colab": {
          "base_uri": "https://localhost:8080/",
          "height": 0
        },
        "id": "57f9f909",
        "outputId": "d8dd0f35-b0f9-450d-c39d-c10288cf4dd9"
      },
      "outputs": [
        {
          "output_type": "stream",
          "name": "stdout",
          "text": [
            "True\n"
          ]
        }
      ],
      "source": [
        "print(np.all(arr>1))"
      ]
    },
    {
      "cell_type": "markdown",
      "id": "d018aa88",
      "metadata": {
        "id": "d018aa88"
      },
      "source": [
        "### np.any()\n",
        "Check if any element satisfies condition."
      ]
    },
    {
      "cell_type": "code",
      "execution_count": 38,
      "id": "98e749ad",
      "metadata": {
        "colab": {
          "base_uri": "https://localhost:8080/",
          "height": 0
        },
        "id": "98e749ad",
        "outputId": "7799d74c-799f-416c-c056-fa4d77fea672"
      },
      "outputs": [
        {
          "output_type": "stream",
          "name": "stdout",
          "text": [
            "True\n"
          ]
        }
      ],
      "source": [
        "print(np.any(arr>8))"
      ]
    },
    {
      "cell_type": "markdown",
      "id": "ff6c052b",
      "metadata": {
        "id": "ff6c052b"
      },
      "source": [
        "## Case Study 1 — Student Performance Analysis"
      ]
    },
    {
      "cell_type": "code",
      "execution_count": 39,
      "id": "f26e7154",
      "metadata": {
        "colab": {
          "base_uri": "https://localhost:8080/",
          "height": 0
        },
        "id": "f26e7154",
        "outputId": "5b9c1a46-6426-49c0-a2bb-7aa54674ee7d"
      },
      "outputs": [
        {
          "output_type": "stream",
          "name": "stdout",
          "text": [
            "Marks:\n",
            " [[59 54 79]\n",
            " [72 41 49]\n",
            " [97 72 71]\n",
            " [50 92 63]\n",
            " [75 51 90]\n",
            " [95 68 74]\n",
            " [40 40 76]\n",
            " [93 45 78]\n",
            " [80 92 57]\n",
            " [55 44 81]]\n",
            "\n",
            "Average per student: [64.         54.         80.         68.33333333 72.         79.\n",
            " 52.         72.         76.33333333 60.        ]\n",
            "Average per subject: {'Math': np.float64(71.6), 'Science': np.float64(59.9), 'English': np.float64(71.8)}\n",
            "\n",
            "Top 3 in Math: indices [2 5 7], scores [97 95 93]\n",
            "\n",
            "Top 3 in Science: indices [8 3 2], scores [92 92 72]\n",
            "\n",
            "Top 3 in English: indices [4 9 0], scores [90 81 79]\n",
            "\n",
            "Students with >75% overall: [2 5 8]\n",
            "\n",
            "Normalized:\n",
            " [[0.333 0.269 0.732]\n",
            " [0.561 0.019 0.   ]\n",
            " [1.    0.615 0.537]\n",
            " [0.175 1.    0.341]\n",
            " [0.614 0.212 1.   ]\n",
            " [0.965 0.538 0.61 ]\n",
            " [0.    0.    0.659]\n",
            " [0.93  0.096 0.707]\n",
            " [0.702 1.    0.195]\n",
            " [0.263 0.077 0.78 ]]\n",
            "\n",
            "Combined shape: (10, 6)\n"
          ]
        }
      ],
      "source": [
        "marks = np.random.randint(40,101,(10,3))\n",
        "subjects = ['Math','Science','English']\n",
        "print(\"Marks:\\n\", marks)\n",
        "\n",
        "avg_student = np.mean(marks, axis=1)\n",
        "avg_subject = np.mean(marks, axis=0)\n",
        "print(\"\\nAverage per student:\", avg_student)\n",
        "print(\"Average per subject:\", dict(zip(subjects, avg_subject)))\n",
        "\n",
        "for i, s in enumerate(subjects):\n",
        "    top3 = np.argsort(marks[:,i])[-3:][::-1]\n",
        "    print(f\"\\nTop 3 in {s}: indices {top3}, scores {marks[top3,i]}\")\n",
        "\n",
        "above75 = np.where(avg_student > 75)[0]\n",
        "print(\"\\nStudents with >75% overall:\", above75)\n",
        "\n",
        "min_vals = marks.min(axis=0)\n",
        "max_vals = marks.max(axis=0)\n",
        "normalized = (marks - min_vals) / (max_vals - min_vals)\n",
        "print(\"\\nNormalized:\\n\", np.round(normalized,3))\n",
        "\n",
        "combined = np.concatenate([marks, normalized], axis=1)\n",
        "print(\"\\nCombined shape:\", combined.shape)"
      ]
    },
    {
      "cell_type": "markdown",
      "id": "77a0fde5",
      "metadata": {
        "id": "77a0fde5"
      },
      "source": [
        "## Case Study 2 — Temperature Patterns"
      ]
    },
    {
      "cell_type": "code",
      "execution_count": 40,
      "id": "138df543",
      "metadata": {
        "colab": {
          "base_uri": "https://localhost:8080/",
          "height": 0
        },
        "id": "138df543",
        "outputId": "79af598e-7f79-459a-8a5c-79af65ceb533"
      },
      "outputs": [
        {
          "output_type": "stream",
          "name": "stdout",
          "text": [
            "Temperatures: [29.   32.26 38.05 21.99 39.4  33.06 23.42 27.16 35.01 32.16 26.5  20.77\n",
            " 32.69 39.18 33.06 32.7  39.91 31.64 28.29 29.49 32.47 26.76 33.5  26.34\n",
            " 35.57 38.99 33.25 20.27 32.46 33.47]\n",
            "\n",
            "Average: 31.294\n",
            "Max: 39.91\n",
            "Min: 20.27\n",
            "\n",
            "Days above average: [ 1  2  4  5  8  9 12 13 14 15 16 17 20 22 24 25 26 28 29]\n",
            "\n",
            "Top 5 hottest days indices: [16  4 13 25  2]\n",
            "Top 5 temps: [39.91 39.4  39.18 38.99 38.05]\n",
            "\n",
            "Week-wise averages: [32.29333333 27.50333333 34.86333333 29.475      32.335     ]\n",
            "Week-wise max: [39.4  35.01 39.91 33.5  38.99]\n"
          ]
        }
      ],
      "source": [
        "temps = np.random.uniform(20,40,30).round(2)\n",
        "print(\"Temperatures:\", temps)\n",
        "\n",
        "print(\"\\nAverage:\", np.mean(temps))\n",
        "print(\"Max:\", np.max(temps))\n",
        "print(\"Min:\", np.min(temps))\n",
        "\n",
        "above_avg = np.where(temps > np.mean(temps))[0]\n",
        "print(\"\\nDays above average:\", above_avg)\n",
        "\n",
        "sorted_idx = np.argsort(temps)\n",
        "top5 = sorted_idx[-5:][::-1]\n",
        "print(\"\\nTop 5 hottest days indices:\", top5)\n",
        "print(\"Top 5 temps:\", temps[top5])\n",
        "\n",
        "temps_weekly = temps.reshape(5,6)\n",
        "print(\"\\nWeek-wise averages:\", np.mean(temps_weekly, axis=1))\n",
        "print(\"Week-wise max:\", np.max(temps_weekly, axis=1))"
      ]
    },
    {
      "cell_type": "markdown",
      "id": "5f0e91ff",
      "metadata": {
        "id": "5f0e91ff"
      },
      "source": [
        "## Checklist\n",
        "- [x] 25+ NumPy functions demonstrated\n",
        "- [x] 2 case studies included\n",
        "- [x] Proper markdown headings and comments"
      ]
    }
  ],
  "metadata": {
    "colab": {
      "provenance": [],
      "include_colab_link": true
    },
    "language_info": {
      "name": "python"
    },
    "kernelspec": {
      "name": "python3",
      "display_name": "Python 3"
    }
  },
  "nbformat": 4,
  "nbformat_minor": 5
}